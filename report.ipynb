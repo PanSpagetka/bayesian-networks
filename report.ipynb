{
 "cells": [
  {
   "cell_type": "markdown",
   "metadata": {},
   "source": [
    "# Bayesian Networks\n",
    "\n",
    "**Colaborators:** Andrej Betík (456604), Robin Knaur (409844), Jiří Novotný (409963)"
   ]
  },
  {
   "cell_type": "markdown",
   "metadata": {},
   "source": [
    "## 1. Introduction\n",
    "\n",
    "### We have chosen these three methods\n",
    " - Bayesian Generalized Linear Model\n",
    " - method 2\n",
    " - method 3\n",
    " \n",
    " ### And we have these three datasets\n",
    " - Bank dataset\n",
    " - dataset 2\n",
    " - dataset 3\n",
    " "
   ]
  },
  {
   "cell_type": "markdown",
   "metadata": {},
   "source": [
    "## 2. Exploratory Analysis\n",
    "\n",
    "### Bank dataset\n",
    "The data is related with direct marketing campaigns (phone calls) of a Portuguese banking institution. The classification goal is to predict if the client will subscribe a term deposit (variable y).\n",
    "\n",
    "The data is related with direct marketing campaigns of a Portuguese banking institution. The marketing campaigns were based on phone calls. Often, more than one contact to the same client was required, in order to access if the product (bank term deposit) would be ('yes') or not ('no') subscribed. \n",
    "\n",
    "The classification goal is to predict if the client will subscribe (yes/no) a term deposit (variable y).\n",
    "\n",
    "#### Attribute Information:\n",
    "\n",
    "##### Input variables:\n",
    "###### bank client data:\n",
    "1. age (numeric)\n",
    "2. job : type of job (categorical: 'admin.','blue-collar','entrepreneur','housemaid','management','retired','self-employed','services','student','technician','unemployed','unknown')\n",
    "3. marital : marital status (categorical: 'divorced','married','single','unknown'; note: 'divorced' means divorced or widowed)\n",
    "4. education (categorical: 'basic.4y','basic.6y','basic.9y','high.school','illiterate','professional.course','university.degree','unknown')\n",
    "5. default: has credit in default? (categorical: 'no','yes','unknown')\n",
    "6. housing: has housing loan? (categorical: 'no','yes','unknown')\n",
    "7. loan: has personal loan? (categorical: 'no','yes','unknown')\n",
    "###### related with the last contact of the current campaign:\n",
    "8. contact: contact communication type (categorical: 'cellular','telephone') \n",
    "9. month: last contact month of year (categorical: 'jan', 'feb', 'mar', ..., 'nov', 'dec')\n",
    "10. day_of_week: last contact day of the week (categorical: 'mon','tue','wed','thu','fri')\n",
    "11. duration: last contact duration, in seconds (numeric). Important note: this attribute highly affects the output target (e.g., if duration=0 then y='no'). Yet, the duration is not known before a call is performed. Also, after the end of the call y is obviously known. Thus, this input should only be included for benchmark purposes and should be discarded if the intention is to have a realistic predictive model.\n",
    "###### other attributes:\n",
    "12. campaign: number of contacts performed during this campaign and for this client (numeric, includes last contact)\n",
    "13. pdays: number of days that passed by after the client was last contacted from a previous campaign (numeric; 999 means client was not previously contacted)\n",
    "14. previous: number of contacts performed before this campaign and for this client (numeric)\n",
    "15. poutcome: outcome of the previous marketing campaign (categorical: 'failure','nonexistent','success')\n",
    "###### social and economic context attributes\n",
    "16. emp.var.rate: employment variation rate - quarterly indicator (numeric)\n",
    "17. cons.price.idx: consumer price index - monthly indicator (numeric) \n",
    "18. cons.conf.idx: consumer confidence index - monthly indicator (numeric) \n",
    "19. euribor3m: euribor 3 month rate - daily indicator (numeric)\n",
    "20. nr.employed: number of employees - quarterly indicator (numeric)\n",
    "\n",
    "###### Output variable (desired target):\n",
    "21. y - has the client subscribed a term deposit? (binary: 'yes','no')\n",
    "\n"
   ]
  },
  {
   "cell_type": "markdown",
   "metadata": {},
   "source": [
    "## 3. Preprocessing\n",
    "\n",
    "### Bank dataset\n",
    "\n",
    "This dataset could be used without any preprocessing, but it still be usefull to do some.\n",
    "\n",
    "First remove the duration column, becase it represents length of a phonecall which couldn't be known before phonecall itself and strongly correlate with output variable.\n",
    "\n",
    "Since it's a telemarketing, majority of people refused an offer, so the distribution of classes is unbalanced I decided to use oversampling to deal with this issue. If I wouldn't use it sensitivity would be very low.\n",
    "```\n",
    "#load datasets\n",
    "bank_train <- read.csv(\"bank-additional.csv\", sep=\";\")\n",
    "bank_test <- read.csv(\"bank-additional-full.csv\", sep=\";\")\n",
    "\n",
    "#remove duration column\n",
    "bank_train_without_duration <- subset(bank_train, select = -c(duration))\n",
    "bank_test_without_duration <- subset(bank_test, select = -c(duration))\n",
    "\n",
    "# oversampling\n",
    "library(splitstackshape)\n",
    "\n",
    "yes_rows = subset(bank_train, y == 'yes')\n",
    "multiplied_yes_rows = expandRows(yes_rows, 8, count.is.col = FALSE, drop = FALSE)\n",
    "oversampled_bank_train = rbind(bank_train, multiplied_yes_rows)\n",
    "\n",
    "\n",
    "```"
   ]
  },
  {
   "cell_type": "markdown",
   "metadata": {},
   "source": [
    "## 4. Learning Algorithms\n",
    "\n",
    "### Bayesian Generalized Linear Model\n",
    "```\n",
    "model <- train(y ~ ., data = oversampled_bank_train, method = 'bayesglm')\n",
    "\n",
    "prediction <- predict(model, newdata = bank_test)\n",
    "confusionMatrix(prediction, bank_test$y, positive=\"yes\")\n",
    "\n",
    "```"
   ]
  },
  {
   "cell_type": "markdown",
   "metadata": {},
   "source": [
    "## 5. Evaluation"
   ]
  },
  {
   "cell_type": "markdown",
   "metadata": {},
   "source": [
    "## 6. Conclusion"
   ]
  },
  {
   "cell_type": "markdown",
   "metadata": {},
   "source": [
    "## 7. References\n",
    "\n",
    "https://archive.ics.uci.edu/ml/datasets/Bank+Marketing"
   ]
  }
 ],
 "metadata": {
  "kernelspec": {
   "display_name": "R",
   "language": "R",
   "name": "ir"
  },
  "language_info": {
   "codemirror_mode": "r",
   "file_extension": ".r",
   "mimetype": "text/x-r-source",
   "name": "R",
   "pygments_lexer": "r",
   "version": "3.4.3"
  }
 },
 "nbformat": 4,
 "nbformat_minor": 2
}
