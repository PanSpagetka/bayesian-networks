{
 "cells": [
  {
   "cell_type": "markdown",
   "metadata": {},
   "source": [
    "# Bayesian Networks\n",
    "\n",
    "**Colaborators:** Andrej Betík (456604), Robin Knaur (409844), Jiří Novotný (409963)"
   ]
  },
  {
   "cell_type": "code",
   "execution_count": 1,
   "metadata": {},
   "outputs": [
    {
     "name": "stderr",
     "output_type": "stream",
     "text": [
      "Loading required package: tidyr\n",
      "Loading required package: ggplot2\n",
      "Loading required package: caret\n",
      "Loading required package: lattice\n",
      "Loading required package: gridExtra\n",
      "Loading required package: ROSE\n",
      "Loaded ROSE 0.0-3\n",
      "\n",
      "Loading required package: bartMachine\n",
      "Loading required package: rJava\n",
      "Loading required package: bartMachineJARs\n",
      "Loading required package: car\n",
      "Loading required package: randomForest\n",
      "randomForest 4.6-12\n",
      "Type rfNews() to see new features/changes/bug fixes.\n",
      "\n",
      "Attaching package: ‘randomForest’\n",
      "\n",
      "The following object is masked from ‘package:gridExtra’:\n",
      "\n",
      "    combine\n",
      "\n",
      "The following object is masked from ‘package:ggplot2’:\n",
      "\n",
      "    margin\n",
      "\n",
      "Loading required package: missForest\n",
      "Loading required package: foreach\n",
      "Loading required package: itertools\n",
      "Loading required package: iterators\n",
      "Welcome to bartMachine v1.2.3! You have 0.48GB memory available.\n",
      "\n",
      "If you run out of memory, restart R, and use e.g.\n",
      "'options(java.parameters = \"-Xmx5g\")' for 5GB of RAM before you call\n",
      "'library(bartMachine)'.\n",
      "\n",
      "Loading required package: splitstackshape\n",
      "Loading required package: arm\n",
      "Loading required package: MASS\n",
      "Loading required package: Matrix\n",
      "\n",
      "Attaching package: ‘Matrix’\n",
      "\n",
      "The following object is masked from ‘package:tidyr’:\n",
      "\n",
      "    expand\n",
      "\n",
      "Loading required package: lme4\n",
      "\n",
      "arm (Version 1.10-1, built: 2018-4-12)\n",
      "\n",
      "Working directory is /home/rknaur/skola/ib031/bayesian-networks\n",
      "\n",
      "\n",
      "Attaching package: ‘arm’\n",
      "\n",
      "The following object is masked from ‘package:car’:\n",
      "\n",
      "    logit\n",
      "\n"
     ]
    },
    {
     "data": {
      "text/html": [
       "<dl class=dl-horizontal>\n",
       "\t<dt>tidyr</dt>\n",
       "\t\t<dd>TRUE</dd>\n",
       "\t<dt>ggplot2</dt>\n",
       "\t\t<dd>TRUE</dd>\n",
       "\t<dt>caret</dt>\n",
       "\t\t<dd>TRUE</dd>\n",
       "\t<dt>gridExtra</dt>\n",
       "\t\t<dd>TRUE</dd>\n",
       "\t<dt>ROSE</dt>\n",
       "\t\t<dd>TRUE</dd>\n",
       "\t<dt>bartMachine</dt>\n",
       "\t\t<dd>TRUE</dd>\n",
       "\t<dt>splitstackshape</dt>\n",
       "\t\t<dd>TRUE</dd>\n",
       "\t<dt>caret</dt>\n",
       "\t\t<dd>TRUE</dd>\n",
       "\t<dt>arm</dt>\n",
       "\t\t<dd>TRUE</dd>\n",
       "</dl>\n"
      ],
      "text/latex": [
       "\\begin{description*}\n",
       "\\item[tidyr] TRUE\n",
       "\\item[ggplot2] TRUE\n",
       "\\item[caret] TRUE\n",
       "\\item[gridExtra] TRUE\n",
       "\\item[ROSE] TRUE\n",
       "\\item[bartMachine] TRUE\n",
       "\\item[splitstackshape] TRUE\n",
       "\\item[caret] TRUE\n",
       "\\item[arm] TRUE\n",
       "\\end{description*}\n"
      ],
      "text/markdown": [
       "tidyr\n",
       ":   TRUEggplot2\n",
       ":   TRUEcaret\n",
       ":   TRUEgridExtra\n",
       ":   TRUEROSE\n",
       ":   TRUEbartMachine\n",
       ":   TRUEsplitstackshape\n",
       ":   TRUEcaret\n",
       ":   TRUEarm\n",
       ":   TRUE\n",
       "\n"
      ],
      "text/plain": [
       "          tidyr         ggplot2           caret       gridExtra            ROSE \n",
       "           TRUE            TRUE            TRUE            TRUE            TRUE \n",
       "    bartMachine splitstackshape           caret             arm \n",
       "           TRUE            TRUE            TRUE            TRUE "
      ]
     },
     "metadata": {},
     "output_type": "display_data"
    }
   ],
   "source": [
    "# Packages Installation \n",
    "install_pckgs_if_not_installed <- function(pkg){\n",
    "    new.pkg <- pkg[!(pkg %in% installed.packages()[, \"Package\"])]\n",
    "    if (length(new.pkg)) \n",
    "        install.packages(new.pkg, dependencies = TRUE)\n",
    "    sapply(pkg, require, character.only = TRUE)\n",
    "}\n",
    "pckgs <- c(\"tidyr\", \"ggplot2\", \"caret\", \"gridExtra\", \"ROSE\", \"bartMachine\", \"splitstackshape\", \"caret\", \"arm\")\n",
    "suppressWarnings(install_pckgs_if_not_installed(pckgs))"
   ]
  },
  {
   "cell_type": "markdown",
   "metadata": {},
   "source": [
    "## 1. Introduction\n",
    "\n",
    "### We have chosen these three methods\n",
    " - Bayesian Generalized Linear Model (Robin Knaur)\n",
    " - Bayesian Additive Regression Trees (Andrej Betík)\n",
    " - Bayesian Ridge Regression (Jiří Novotný)\n",
    " \n",
    " ### And we have these three datasets\n",
    " - Bank dataset (Robin Knaur)\n",
    " - German Credit Data (Andrej Betík)\n",
    " - Energy efficiency (Jiří Novotný)\n",
    " "
   ]
  },
  {
   "cell_type": "markdown",
   "metadata": {},
   "source": [
    "## 2. Exploratory Analysis\n",
    "\n",
    "### Bank dataset\n",
    "The data is related with direct marketing campaigns (phone calls) of a Portuguese banking institution. The classification goal is to predict if the client will subscribe a term deposit (variable y).\n",
    "\n",
    "The data is related with direct marketing campaigns of a Portuguese banking institution. The marketing campaigns were based on phone calls. Often, more than one contact to the same client was required, in order to access if the product (bank term deposit) would be ('yes') or not ('no') subscribed. \n",
    "\n",
    "The classification goal is to predict if the client will subscribe (yes/no) a term deposit (variable y).\n",
    "\n",
    "#### Attribute Information:\n",
    "\n",
    "##### Input variables:\n",
    "###### bank client data:\n",
    "1. age (numeric)\n",
    "2. job : type of job (categorical: 'admin.','blue-collar','entrepreneur','housemaid','management','retired','self-employed','services','student','technician','unemployed','unknown')\n",
    "3. marital : marital status (categorical: 'divorced','married','single','unknown'; note: 'divorced' means divorced or widowed)\n",
    "4. education (categorical: 'basic.4y','basic.6y','basic.9y','high.school','illiterate','professional.course','university.degree','unknown')\n",
    "5. default: has credit in default? (categorical: 'no','yes','unknown')\n",
    "6. housing: has housing loan? (categorical: 'no','yes','unknown')\n",
    "7. loan: has personal loan? (categorical: 'no','yes','unknown')\n",
    "###### related with the last contact of the current campaign:\n",
    "8. contact: contact communication type (categorical: 'cellular','telephone') \n",
    "9. month: last contact month of year (categorical: 'jan', 'feb', 'mar', ..., 'nov', 'dec')\n",
    "10. day_of_week: last contact day of the week (categorical: 'mon','tue','wed','thu','fri')\n",
    "11. duration: last contact duration, in seconds (numeric). Important note: this attribute highly affects the output target (e.g., if duration=0 then y='no'). Yet, the duration is not known before a call is performed. Also, after the end of the call y is obviously known. Thus, this input should only be included for benchmark purposes and should be discarded if the intention is to have a realistic predictive model.\n",
    "###### other attributes:\n",
    "12. campaign: number of contacts performed during this campaign and for this client (numeric, includes last contact)\n",
    "13. pdays: number of days that passed by after the client was last contacted from a previous campaign (numeric; 999 means client was not previously contacted)\n",
    "14. previous: number of contacts performed before this campaign and for this client (numeric)\n",
    "15. poutcome: outcome of the previous marketing campaign (categorical: 'failure','nonexistent','success')\n",
    "###### social and economic context attributes\n",
    "16. emp.var.rate: employment variation rate - quarterly indicator (numeric)\n",
    "17. cons.price.idx: consumer price index - monthly indicator (numeric) \n",
    "18. cons.conf.idx: consumer confidence index - monthly indicator (numeric) \n",
    "19. euribor3m: euribor 3 month rate - daily indicator (numeric)\n",
    "20. nr.employed: number of employees - quarterly indicator (numeric)\n",
    "\n",
    "###### Output variable (desired target):\n",
    "21. y - has the client subscribed a term deposit? (binary: 'yes','no')\n",
    "\n",
    "\n",
    "### German Credit Data\n",
    "The original dataset contains 1000 entries with 20 categorial/symbolic attributes. In this dataset, each entry represents a person who takes a credit by a bank. Each person is classified as good or bad credit risks according to the set of attributes.\n",
    "I have ignored some columns, because either they are not important or their descriptions are obscure. The original dataset can be found at https://archive.ics.uci.edu/ml/datasets/Statlog+%28German+Credit+Data%29\n",
    "\n",
    "#### Attribute Information:\n",
    "1. Age (numeric)\n",
    "2. Sex (text: male, female)\n",
    "3. Job (numeric: 0 - unskilled and non-resident, 1 - unskilled and resident, 2 - skilled, 3 - highly skilled)\n",
    "4. Housing (text: own, rent, or free)\n",
    "5. Saving accounts (text - little, moderate, quite rich, rich)\n",
    "6. Checking account (numeric, in DM - Deutsch Mark)\n",
    "7. Credit amount (numeric, in DM)\n",
    "8. Duration (numeric, in month)\n",
    "9. Purpose(text: car, furniture/equipment, radio/TV, domestic appliances, repairs, education, business, vacation/others\n",
    "###### Output variable (desired target)\n",
    "10. Risk (Value target - Good or Bad Risk)\n",
    "\n",
    "### Visualization"
   ]
  },
  {
   "cell_type": "code",
   "execution_count": 2,
   "metadata": {},
   "outputs": [
    {
     "name": "stdout",
     "output_type": "stream",
     "text": [
      "'data.frame':\t1000 obs. of  10 variables:\n",
      " $ Age             : int  67 22 49 45 53 35 53 35 61 28 ...\n",
      " $ Sex             : Factor w/ 2 levels \"female\",\"male\": 2 1 2 2 2 2 2 2 2 2 ...\n",
      " $ Job             : int  2 2 1 2 2 1 2 3 1 3 ...\n",
      " $ Housing         : Factor w/ 3 levels \"free\",\"own\",\"rent\": 2 2 2 1 1 1 2 3 2 2 ...\n",
      " $ Saving.accounts : Factor w/ 4 levels \"little\",\"moderate\",..: NA 1 1 1 1 NA 3 1 4 1 ...\n",
      " $ Checking.account: Factor w/ 3 levels \"little\",\"moderate\",..: 1 2 NA 1 1 NA NA 2 NA 2 ...\n",
      " $ Credit.amount   : int  1169 5951 2096 7882 4870 9055 2835 6948 3059 5234 ...\n",
      " $ Duration        : int  6 48 12 42 24 36 24 36 12 30 ...\n",
      " $ Purpose         : Factor w/ 8 levels \"business\",\"car\",..: 6 6 4 5 2 4 5 2 6 2 ...\n",
      " $ Risk            : Factor w/ 2 levels \"bad\",\"good\": 2 1 2 2 1 2 2 2 2 1 ...\n"
     ]
    }
   ],
   "source": [
    "suppressWarnings(suppressMessages(library(caret)))\n",
    "suppressWarnings(suppressMessages(library(gridExtra)))\n",
    "german_credit <- read.csv(\"datasets/german_credit.csv\")\n",
    "str(german_credit)"
   ]
  },
  {
   "cell_type": "code",
   "execution_count": 3,
   "metadata": {},
   "outputs": [
    {
     "data": {
      "image/png": "[encoded data removed]",
      "text/plain": [
       "plot without title"
      ]
     },
     "metadata": {},
     "output_type": "display_data"
    }
   ],
   "source": [
    "# Inspection of some interesting data features\n",
    "\n",
    "# People at very young age seem to have worse credit worthiness\n",
    "p1 <- ggplot(german_credit, aes(x=Age, color=Risk)) + geom_density()\n",
    "# Surprisingly there's not really a trend of \"Longer duration better credit worthiness\"\n",
    "p2 <- ggplot(german_credit, aes(x=Duration, color=Risk)) + geom_density()\n",
    "# A trend of \"Higher credit amount, better credit worthiness\"\n",
    "p3 <- ggplot(german_credit, aes(x=Credit.amount, color=Risk)) + geom_density()\n",
    "grid.arrange(p1, p2, p3)"
   ]
  },
  {
   "cell_type": "markdown",
   "metadata": {},
   "source": [
    "### Energy efficiency\n",
    "* Authors: Angeliki Xifara, Athanasios Tsanas\n",
    "* Link: https://archive.ics.uci.edu/ml/datasets/Energy+efficiency\n",
    "\n",
    "#### Abstract\n",
    "Authors performed energy analysis using 12 different building shapes simulated in Ecotect. The buildings differed with respect to the glazing area, the glazing area distribution, and the orientation, amongst other parameters. They simulated various settings as functions of the afore-mentioned characteristics to obtain 768 building shapes. The dataset comprises 768 samples and 8 features, aiming to predict two real valued responses. It can also be used as a multi-class classification problem if the response is rounded to the nearest integer.\n",
    "\n",
    "#### Attributes\n",
    "* X1 Relative Compactness\n",
    "* X2 Surface Area\n",
    "* X3 Wall Area\n",
    "* X4 Roof Area\n",
    "* X5 Overall Height\n",
    "* X6 Orientation\n",
    "* X7 Glazing Area\n",
    "* X8 Glazing Area Distribution\n",
    "* y1 Heating Load\n",
    "* y2 Cooling Load"
   ]
  },
  {
   "cell_type": "code",
   "execution_count": 4,
   "metadata": {},
   "outputs": [
    {
     "data": {
      "text/html": [
       "<table>\n",
       "<thead><tr><th scope=col>relative_compactness</th><th scope=col>surface_area</th><th scope=col>wall_area</th><th scope=col>roof_area</th><th scope=col>overall_height</th><th scope=col>orientation</th><th scope=col>glazing_area</th><th scope=col>glazing_area_distribution</th><th scope=col>heating_load</th><th scope=col>cooling_load</th></tr></thead>\n",
       "<tbody>\n",
       "\t<tr><td>0.98  </td><td>514.5 </td><td>294.0 </td><td>110.25</td><td>7     </td><td>2     </td><td>0     </td><td>0     </td><td>15.55 </td><td>21.33 </td></tr>\n",
       "\t<tr><td>0.98  </td><td>514.5 </td><td>294.0 </td><td>110.25</td><td>7     </td><td>3     </td><td>0     </td><td>0     </td><td>15.55 </td><td>21.33 </td></tr>\n",
       "\t<tr><td>0.98  </td><td>514.5 </td><td>294.0 </td><td>110.25</td><td>7     </td><td>4     </td><td>0     </td><td>0     </td><td>15.55 </td><td>21.33 </td></tr>\n",
       "\t<tr><td>0.98  </td><td>514.5 </td><td>294.0 </td><td>110.25</td><td>7     </td><td>5     </td><td>0     </td><td>0     </td><td>15.55 </td><td>21.33 </td></tr>\n",
       "\t<tr><td>0.90  </td><td>563.5 </td><td>318.5 </td><td>122.50</td><td>7     </td><td>2     </td><td>0     </td><td>0     </td><td>20.84 </td><td>28.28 </td></tr>\n",
       "\t<tr><td>0.90  </td><td>563.5 </td><td>318.5 </td><td>122.50</td><td>7     </td><td>3     </td><td>0     </td><td>0     </td><td>21.46 </td><td>25.38 </td></tr>\n",
       "</tbody>\n",
       "</table>\n"
      ],
      "text/latex": [
       "\\begin{tabular}{r|llllllllll}\n",
       " relative\\_compactness & surface\\_area & wall\\_area & roof\\_area & overall\\_height & orientation & glazing\\_area & glazing\\_area\\_distribution & heating\\_load & cooling\\_load\\\\\n",
       "\\hline\n",
       "\t 0.98   & 514.5  & 294.0  & 110.25 & 7      & 2      & 0      & 0      & 15.55  & 21.33 \\\\\n",
       "\t 0.98   & 514.5  & 294.0  & 110.25 & 7      & 3      & 0      & 0      & 15.55  & 21.33 \\\\\n",
       "\t 0.98   & 514.5  & 294.0  & 110.25 & 7      & 4      & 0      & 0      & 15.55  & 21.33 \\\\\n",
       "\t 0.98   & 514.5  & 294.0  & 110.25 & 7      & 5      & 0      & 0      & 15.55  & 21.33 \\\\\n",
       "\t 0.90   & 563.5  & 318.5  & 122.50 & 7      & 2      & 0      & 0      & 20.84  & 28.28 \\\\\n",
       "\t 0.90   & 563.5  & 318.5  & 122.50 & 7      & 3      & 0      & 0      & 21.46  & 25.38 \\\\\n",
       "\\end{tabular}\n"
      ],
      "text/markdown": [
       "\n",
       "relative_compactness | surface_area | wall_area | roof_area | overall_height | orientation | glazing_area | glazing_area_distribution | heating_load | cooling_load | \n",
       "|---|---|---|---|---|---|\n",
       "| 0.98   | 514.5  | 294.0  | 110.25 | 7      | 2      | 0      | 0      | 15.55  | 21.33  | \n",
       "| 0.98   | 514.5  | 294.0  | 110.25 | 7      | 3      | 0      | 0      | 15.55  | 21.33  | \n",
       "| 0.98   | 514.5  | 294.0  | 110.25 | 7      | 4      | 0      | 0      | 15.55  | 21.33  | \n",
       "| 0.98   | 514.5  | 294.0  | 110.25 | 7      | 5      | 0      | 0      | 15.55  | 21.33  | \n",
       "| 0.90   | 563.5  | 318.5  | 122.50 | 7      | 2      | 0      | 0      | 20.84  | 28.28  | \n",
       "| 0.90   | 563.5  | 318.5  | 122.50 | 7      | 3      | 0      | 0      | 21.46  | 25.38  | \n",
       "\n",
       "\n"
      ],
      "text/plain": [
       "  relative_compactness surface_area wall_area roof_area overall_height\n",
       "1 0.98                 514.5        294.0     110.25    7             \n",
       "2 0.98                 514.5        294.0     110.25    7             \n",
       "3 0.98                 514.5        294.0     110.25    7             \n",
       "4 0.98                 514.5        294.0     110.25    7             \n",
       "5 0.90                 563.5        318.5     122.50    7             \n",
       "6 0.90                 563.5        318.5     122.50    7             \n",
       "  orientation glazing_area glazing_area_distribution heating_load cooling_load\n",
       "1 2           0            0                         15.55        21.33       \n",
       "2 3           0            0                         15.55        21.33       \n",
       "3 4           0            0                         15.55        21.33       \n",
       "4 5           0            0                         15.55        21.33       \n",
       "5 2           0            0                         20.84        28.28       \n",
       "6 3           0            0                         21.46        25.38       "
      ]
     },
     "metadata": {},
     "output_type": "display_data"
    }
   ],
   "source": [
    "#load csv\n",
    "energy <- read.csv(\"datasets/energy_efficency.csv\")\n",
    "\n",
    "#rename columns\n",
    "names(energy) <- c(\"relative_compactness\", \"surface_area\", \"wall_area\", \"roof_area\", \"overall_height\",\n",
    "                   \"orientation\", \"glazing_area\", \"glazing_area_distribution\", \"heating_load\", \"cooling_load\")\n",
    "head(energy)"
   ]
  },
  {
   "cell_type": "code",
   "execution_count": 5,
   "metadata": {},
   "outputs": [
    {
     "data": {
      "text/html": [
       "768"
      ],
      "text/latex": [
       "768"
      ],
      "text/markdown": [
       "768"
      ],
      "text/plain": [
       "[1] 768"
      ]
     },
     "metadata": {},
     "output_type": "display_data"
    }
   ],
   "source": [
    "# number of samples\n",
    "nrow(energy)"
   ]
  },
  {
   "cell_type": "code",
   "execution_count": 6,
   "metadata": {},
   "outputs": [
    {
     "data": {},
     "metadata": {},
     "output_type": "display_data"
    },
    {
     "data": {
      "image/png": "[encoded data removed]",
      "text/plain": [
       "plot without title"
      ]
     },
     "metadata": {},
     "output_type": "display_data"
    }
   ],
   "source": [
    "library(tidyr)\n",
    "library(ggplot2)\n",
    "\n",
    "# look at distribution of values for each feature\n",
    "ggplot(gather(energy), aes(value)) +\n",
    "    geom_density() +\n",
    "    facet_wrap(~key, scales = 'free_x') +\n",
    "    ggtitle(\"Distribution if features\")"
   ]
  },
  {
   "cell_type": "markdown",
   "metadata": {},
   "source": [
    "## 3. Preprocessing"
   ]
  },
  {
   "cell_type": "markdown",
   "metadata": {},
   "source": [
    "### Bank dataset\n",
    "\n",
    "This dataset could be used without any preprocessing, but it still be usefull to do some.\n",
    "\n",
    "First remove the duration column, becase it represents length of a phone call which couldn't be known before phonecall itself and strongly correlate with output variable.\n",
    "\n",
    "Since it's a telemarketing, majority of people refused an offer, so the distribution of classes is unbalanced. I decided to use oversampling to deal with this issue. If I wouldn't use it, sensitivity would be very low.\n"
   ]
  },
  {
   "cell_type": "code",
   "execution_count": 7,
   "metadata": {},
   "outputs": [],
   "source": [
    "library('caret')\n",
    "library('arm')\n",
    "\n",
    "\n",
    "#load datasets\n",
    "bank_train <- read.csv(\"datasets/bank-additional.csv\", sep=\";\")\n",
    "bank_test <- read.csv(\"datasets/bank-additional-full.csv\", sep=\";\")\n",
    "\n",
    "#remove duration column\n",
    "bank_train_without_duration <- subset(bank_train, select = -c(duration))\n",
    "bank_test_without_duration <- subset(bank_test, select = -c(duration))\n",
    "\n",
    "# oversampling\n",
    "library(splitstackshape)\n",
    "\n",
    "yes_rows = subset(bank_train, y == 'yes')\n",
    "multiplied_yes_rows = expandRows(yes_rows, 8, count.is.col = FALSE, drop = FALSE)\n",
    "oversampled_bank_train = rbind(bank_train, multiplied_yes_rows)"
   ]
  },
  {
   "cell_type": "markdown",
   "metadata": {},
   "source": [
    "### German Credit Data\n",
    "#### Preprocessing consits of :\n",
    "##### 1)  Handling of Missing Data\n",
    "##### 2) Ballancing the data"
   ]
  },
  {
   "cell_type": "code",
   "execution_count": 8,
   "metadata": {},
   "outputs": [
    {
     "data": {
      "text/html": [
       "577"
      ],
      "text/latex": [
       "577"
      ],
      "text/markdown": [
       "577"
      ],
      "text/plain": [
       "[1] 577"
      ]
     },
     "metadata": {},
     "output_type": "display_data"
    }
   ],
   "source": [
    "# Checking for missing values\n",
    "sum(is.na(german_credit))"
   ]
  },
  {
   "cell_type": "code",
   "execution_count": 9,
   "metadata": {},
   "outputs": [
    {
     "data": {
      "text/html": [
       "577"
      ],
      "text/latex": [
       "577"
      ],
      "text/markdown": [
       "577"
      ],
      "text/plain": [
       "[1] 577"
      ]
     },
     "metadata": {},
     "output_type": "display_data"
    }
   ],
   "source": [
    "# But all of them are in attributes Saving.accounts and Checking.accounts which are categorical values\n",
    "sum(is.na(german_credit$Checking.account)) + sum(is.na(german_credit$Saving.accounts))"
   ]
  },
  {
   "cell_type": "code",
   "execution_count": 10,
   "metadata": {},
   "outputs": [],
   "source": [
    "# To get rid of missing values I replace <NA> samples with a new level \"Unknown\"\n",
    "levels(german_credit$Saving.accounts) = c(levels(german_credit$Saving.accounts), \"Unknown\")\n",
    "german_credit$Saving.accounts[which(is.na(german_credit$Saving.accounts))] = \"Unknown\"\n",
    "levels(german_credit$Checking.account) = c(levels(german_credit$Checking.account), \"Unknown\")\n",
    "german_credit$Checking.account[which(is.na(german_credit$Checking.account))] = \"Unknown\""
   ]
  },
  {
   "cell_type": "code",
   "execution_count": 11,
   "metadata": {},
   "outputs": [
    {
     "data": {
      "text/html": [
       "FALSE"
      ],
      "text/latex": [
       "FALSE"
      ],
      "text/markdown": [
       "FALSE"
      ],
      "text/plain": [
       "[1] FALSE"
      ]
     },
     "metadata": {},
     "output_type": "display_data"
    }
   ],
   "source": [
    "any(is.na(german_credit))"
   ]
  },
  {
   "cell_type": "code",
   "execution_count": 12,
   "metadata": {},
   "outputs": [
    {
     "data": {
      "text/plain": [
       "\n",
       " bad good \n",
       " 300  700 "
      ]
     },
     "metadata": {},
     "output_type": "display_data"
    }
   ],
   "source": [
    "# Apparantly this dataset is unballanced(has unequal instances for different classes)\n",
    "table(german_credit$Risk)"
   ]
  },
  {
   "cell_type": "code",
   "execution_count": 13,
   "metadata": {},
   "outputs": [],
   "source": [
    "# Using function ovun.sample to ballance the data\n",
    "# It creates possibly balanced samples by combination of random over-sampling minority examples and under-sampling\n",
    "# majority examples.\n",
    "# Over/Under sampling whole dataset would create copies of the same point.\n",
    "# It may end up in both the training and test sets. This allows the classifier to cheat.\n",
    "# Firstly I will divide the dataset to train/test and over/under sample just the train one.\n",
    "set.seed(123)\n",
    "trainIndex <- createDataPartition(german_credit$Risk, .7, list=FALSE, times = 1)\n",
    "german_credit_train <- german_credit[trainIndex,]\n",
    "german_credit_test <- german_credit[-trainIndex,]"
   ]
  },
  {
   "cell_type": "code",
   "execution_count": 14,
   "metadata": {},
   "outputs": [
    {
     "data": {
      "text/plain": [
       "\n",
       " bad good \n",
       " 210  490 "
      ]
     },
     "metadata": {},
     "output_type": "display_data"
    }
   ],
   "source": [
    "# Before the over/under sampling\n",
    "table(german_credit_train$Risk)"
   ]
  },
  {
   "cell_type": "code",
   "execution_count": 15,
   "metadata": {},
   "outputs": [
    {
     "data": {
      "text/plain": [
       "\n",
       "good  bad \n",
       " 360  340 "
      ]
     },
     "metadata": {},
     "output_type": "display_data"
    }
   ],
   "source": [
    "suppressPackageStartupMessages(suppressWarnings(library(ROSE)))\n",
    "german_credit_train <- ovun.sample(Risk~., data=german_credit_train,\n",
    "                                   N=nrow(german_credit_train), p=0.5, \n",
    "                                   seed=1, method=\"both\")$data\n",
    "# After the over/under sampling\n",
    "table(german_credit_train$Risk)"
   ]
  },
  {
   "cell_type": "markdown",
   "metadata": {},
   "source": [
    "### Energy efficiency"
   ]
  },
  {
   "cell_type": "code",
   "execution_count": 16,
   "metadata": {},
   "outputs": [
    {
     "data": {
      "text/html": [
       "FALSE"
      ],
      "text/latex": [
       "FALSE"
      ],
      "text/markdown": [
       "FALSE"
      ],
      "text/plain": [
       "[1] FALSE"
      ]
     },
     "metadata": {},
     "output_type": "display_data"
    }
   ],
   "source": [
    "# Contains any NA values?\n",
    "any(is.na(energy))"
   ]
  },
  {
   "cell_type": "code",
   "execution_count": 17,
   "metadata": {},
   "outputs": [
    {
     "data": {
      "text/html": [
       "<table>\n",
       "<thead><tr><th></th><th scope=col>mean</th><th scope=col>std</th><th scope=col>min</th><th scope=col>q_0.25</th><th scope=col>q_0.50</th><th scope=col>q_0.75</th><th scope=col>max</th></tr></thead>\n",
       "<tbody>\n",
       "\t<tr><th scope=row>relative_compactness</th><td>  0.7641667</td><td> 0.1057775 </td><td>  0.62     </td><td>  0.6825   </td><td>  0.75     </td><td>  0.8300   </td><td>  0.98     </td></tr>\n",
       "\t<tr><th scope=row>surface_area</th><td>671.7083333</td><td>88.0861161 </td><td>514.50     </td><td>606.3750   </td><td>673.75     </td><td>741.1250   </td><td>808.50     </td></tr>\n",
       "\t<tr><th scope=row>wall_area</th><td>318.5000000</td><td>43.6264814 </td><td>245.00     </td><td>294.0000   </td><td>318.50     </td><td>343.0000   </td><td>416.50     </td></tr>\n",
       "\t<tr><th scope=row>roof_area</th><td>176.6041667</td><td>45.1659502 </td><td>110.25     </td><td>140.8750   </td><td>183.75     </td><td>220.5000   </td><td>220.50     </td></tr>\n",
       "\t<tr><th scope=row>overall_height</th><td>  5.2500000</td><td> 1.7511404 </td><td>  3.50     </td><td>  3.5000   </td><td>  5.25     </td><td>  7.0000   </td><td>  7.00     </td></tr>\n",
       "\t<tr><th scope=row>orientation</th><td>  3.5000000</td><td> 1.1187626 </td><td>  2.00     </td><td>  2.7500   </td><td>  3.50     </td><td>  4.2500   </td><td>  5.00     </td></tr>\n",
       "\t<tr><th scope=row>glazing_area</th><td>  0.2343750</td><td> 0.1332206 </td><td>  0.00     </td><td>  0.1000   </td><td>  0.25     </td><td>  0.4000   </td><td>  0.40     </td></tr>\n",
       "\t<tr><th scope=row>glazing_area_distribution</th><td>  2.8125000</td><td> 1.5509597 </td><td>  0.00     </td><td>  1.7500   </td><td>  3.00     </td><td>  4.0000   </td><td>  5.00     </td></tr>\n",
       "\t<tr><th scope=row>heating_load</th><td> 22.3071953</td><td>10.0902040 </td><td>  6.01     </td><td> 12.9925   </td><td> 18.95     </td><td> 31.6675   </td><td> 43.10     </td></tr>\n",
       "\t<tr><th scope=row>cooling_load</th><td> 24.5877604</td><td> 9.5133056 </td><td> 10.90     </td><td> 15.6200   </td><td> 22.08     </td><td> 33.1325   </td><td> 48.03     </td></tr>\n",
       "</tbody>\n",
       "</table>\n"
      ],
      "text/latex": [
       "\\begin{tabular}{r|lllllll}\n",
       "  & mean & std & min & q\\_0.25 & q\\_0.50 & q\\_0.75 & max\\\\\n",
       "\\hline\n",
       "\trelative\\_compactness &   0.7641667 &  0.1057775  &   0.62      &   0.6825    &   0.75      &   0.8300    &   0.98     \\\\\n",
       "\tsurface\\_area & 671.7083333 & 88.0861161  & 514.50      & 606.3750    & 673.75      & 741.1250    & 808.50     \\\\\n",
       "\twall\\_area & 318.5000000 & 43.6264814  & 245.00      & 294.0000    & 318.50      & 343.0000    & 416.50     \\\\\n",
       "\troof\\_area & 176.6041667 & 45.1659502  & 110.25      & 140.8750    & 183.75      & 220.5000    & 220.50     \\\\\n",
       "\toverall\\_height &   5.2500000 &  1.7511404  &   3.50      &   3.5000    &   5.25      &   7.0000    &   7.00     \\\\\n",
       "\torientation &   3.5000000 &  1.1187626  &   2.00      &   2.7500    &   3.50      &   4.2500    &   5.00     \\\\\n",
       "\tglazing\\_area &   0.2343750 &  0.1332206  &   0.00      &   0.1000    &   0.25      &   0.4000    &   0.40     \\\\\n",
       "\tglazing\\_area\\_distribution &   2.8125000 &  1.5509597  &   0.00      &   1.7500    &   3.00      &   4.0000    &   5.00     \\\\\n",
       "\theating\\_load &  22.3071953 & 10.0902040  &   6.01      &  12.9925    &  18.95      &  31.6675    &  43.10     \\\\\n",
       "\tcooling\\_load &  24.5877604 &  9.5133056  &  10.90      &  15.6200    &  22.08      &  33.1325    &  48.03     \\\\\n",
       "\\end{tabular}\n"
      ],
      "text/markdown": [
       "\n",
       "| <!--/--> | mean | std | min | q_0.25 | q_0.50 | q_0.75 | max | \n",
       "|---|---|---|---|---|---|---|---|---|---|\n",
       "| relative_compactness |   0.7641667 |  0.1057775  |   0.62      |   0.6825    |   0.75      |   0.8300    |   0.98      | \n",
       "| surface_area | 671.7083333 | 88.0861161  | 514.50      | 606.3750    | 673.75      | 741.1250    | 808.50      | \n",
       "| wall_area | 318.5000000 | 43.6264814  | 245.00      | 294.0000    | 318.50      | 343.0000    | 416.50      | \n",
       "| roof_area | 176.6041667 | 45.1659502  | 110.25      | 140.8750    | 183.75      | 220.5000    | 220.50      | \n",
       "| overall_height |   5.2500000 |  1.7511404  |   3.50      |   3.5000    |   5.25      |   7.0000    |   7.00      | \n",
       "| orientation |   3.5000000 |  1.1187626  |   2.00      |   2.7500    |   3.50      |   4.2500    |   5.00      | \n",
       "| glazing_area |   0.2343750 |  0.1332206  |   0.00      |   0.1000    |   0.25      |   0.4000    |   0.40      | \n",
       "| glazing_area_distribution |   2.8125000 |  1.5509597  |   0.00      |   1.7500    |   3.00      |   4.0000    |   5.00      | \n",
       "| heating_load |  22.3071953 | 10.0902040  |   6.01      |  12.9925    |  18.95      |  31.6675    |  43.10      | \n",
       "| cooling_load |  24.5877604 |  9.5133056  |  10.90      |  15.6200    |  22.08      |  33.1325    |  48.03      | \n",
       "\n",
       "\n"
      ],
      "text/plain": [
       "                          mean        std        min    q_0.25   q_0.50\n",
       "relative_compactness        0.7641667  0.1057775   0.62   0.6825   0.75\n",
       "surface_area              671.7083333 88.0861161 514.50 606.3750 673.75\n",
       "wall_area                 318.5000000 43.6264814 245.00 294.0000 318.50\n",
       "roof_area                 176.6041667 45.1659502 110.25 140.8750 183.75\n",
       "overall_height              5.2500000  1.7511404   3.50   3.5000   5.25\n",
       "orientation                 3.5000000  1.1187626   2.00   2.7500   3.50\n",
       "glazing_area                0.2343750  0.1332206   0.00   0.1000   0.25\n",
       "glazing_area_distribution   2.8125000  1.5509597   0.00   1.7500   3.00\n",
       "heating_load               22.3071953 10.0902040   6.01  12.9925  18.95\n",
       "cooling_load               24.5877604  9.5133056  10.90  15.6200  22.08\n",
       "                          q_0.75   max   \n",
       "relative_compactness        0.8300   0.98\n",
       "surface_area              741.1250 808.50\n",
       "wall_area                 343.0000 416.50\n",
       "roof_area                 220.5000 220.50\n",
       "overall_height              7.0000   7.00\n",
       "orientation                 4.2500   5.00\n",
       "glazing_area                0.4000   0.40\n",
       "glazing_area_distribution   4.0000   5.00\n",
       "heating_load               31.6675  43.10\n",
       "cooling_load               33.1325  48.03"
      ]
     },
     "metadata": {},
     "output_type": "display_data"
    }
   ],
   "source": [
    "# define my version of summary method with standard deviation included\n",
    "energy_summary <- function(df) {\n",
    "    data.frame(mean=sapply(df, mean),\n",
    "               std=sapply(df, sd),\n",
    "               min=sapply(df, min),\n",
    "               q_0.25=sapply(df, function(col) quantile(col, probs=0.25)),\n",
    "               q_0.50=sapply(df, function(col) quantile(col, probs=0.50)),\n",
    "               q_0.75=sapply(df, function(col) quantile(col, probs=0.75)),\n",
    "               max=sapply(df, max))\n",
    "}\n",
    "\n",
    "# check the means and standard deviations for each feature\n",
    "energy_summary(energy)"
   ]
  },
  {
   "cell_type": "code",
   "execution_count": 18,
   "metadata": {},
   "outputs": [
    {
     "data": {
      "text/html": [
       "<table>\n",
       "<thead><tr><th></th><th scope=col>mean</th><th scope=col>std</th><th scope=col>min</th><th scope=col>q_0.25</th><th scope=col>q_0.50</th><th scope=col>q_0.75</th><th scope=col>max</th></tr></thead>\n",
       "<tbody>\n",
       "\t<tr><th scope=row>relative_compactness</th><td>-7.914394e-18</td><td> 1.000000    </td><td>-1.3629241   </td><td>-0.7720610   </td><td>-0.13392895  </td><td> 0.6223757   </td><td> 2.0404470   </td></tr>\n",
       "\t<tr><th scope=row>surface_area</th><td>-4.431493e-16</td><td> 1.000000    </td><td>-1.7847118   </td><td>-0.7416984   </td><td> 0.02317808  </td><td> 0.7880546   </td><td> 1.5529311   </td></tr>\n",
       "\t<tr><th scope=row>wall_area</th><td> 0.000000e+00</td><td> 1.000000    </td><td>-1.6847565   </td><td>-0.5615855   </td><td> 0.00000000  </td><td> 0.5615855   </td><td> 2.2463421   </td></tr>\n",
       "\t<tr><th scope=row>roof_area</th><td> 2.036136e-16</td><td> 1.000000    </td><td>-1.4691192   </td><td>-0.7910642   </td><td> 0.15821284  </td><td> 0.9718789   </td><td> 0.9718789   </td></tr>\n",
       "\t<tr><th scope=row>overall_height</th><td> 0.000000e+00</td><td> 1.000000    </td><td>-0.9993487   </td><td>-0.9993487   </td><td> 0.00000000  </td><td> 0.9993487   </td><td> 0.9993487   </td></tr>\n",
       "\t<tr><th scope=row>orientation</th><td> 0.000000e+00</td><td> 1.000000    </td><td>-1.3407670   </td><td>-0.6703835   </td><td> 0.00000000  </td><td> 0.6703835   </td><td> 1.3407670   </td></tr>\n",
       "\t<tr><th scope=row>glazing_area</th><td> 1.158831e-16</td><td> 1.000000    </td><td>-1.7593005   </td><td>-1.0086656   </td><td> 0.11728670  </td><td> 1.2432390   </td><td> 1.2432390   </td></tr>\n",
       "\t<tr><th scope=row>glazing_area_distribution</th><td> 1.053257e-17</td><td> 1.000000    </td><td>-1.8133934   </td><td>-0.6850597   </td><td> 0.12089289  </td><td> 0.7656550   </td><td> 1.4104171   </td></tr>\n",
       "\t<tr><th scope=row>heating_load</th><td> 2.230720e+01</td><td>10.090204    </td><td> 6.0100000   </td><td>12.9925000   </td><td>18.95000000  </td><td>31.6675000   </td><td>43.1000000   </td></tr>\n",
       "\t<tr><th scope=row>cooling_load</th><td> 2.458776e+01</td><td> 9.513306    </td><td>10.9000000   </td><td>15.6200000   </td><td>22.08000000  </td><td>33.1325000   </td><td>48.0300000   </td></tr>\n",
       "</tbody>\n",
       "</table>\n"
      ],
      "text/latex": [
       "\\begin{tabular}{r|lllllll}\n",
       "  & mean & std & min & q\\_0.25 & q\\_0.50 & q\\_0.75 & max\\\\\n",
       "\\hline\n",
       "\trelative\\_compactness & -7.914394e-18 &  1.000000     & -1.3629241    & -0.7720610    & -0.13392895   &  0.6223757    &  2.0404470   \\\\\n",
       "\tsurface\\_area & -4.431493e-16 &  1.000000     & -1.7847118    & -0.7416984    &  0.02317808   &  0.7880546    &  1.5529311   \\\\\n",
       "\twall\\_area &  0.000000e+00 &  1.000000     & -1.6847565    & -0.5615855    &  0.00000000   &  0.5615855    &  2.2463421   \\\\\n",
       "\troof\\_area &  2.036136e-16 &  1.000000     & -1.4691192    & -0.7910642    &  0.15821284   &  0.9718789    &  0.9718789   \\\\\n",
       "\toverall\\_height &  0.000000e+00 &  1.000000     & -0.9993487    & -0.9993487    &  0.00000000   &  0.9993487    &  0.9993487   \\\\\n",
       "\torientation &  0.000000e+00 &  1.000000     & -1.3407670    & -0.6703835    &  0.00000000   &  0.6703835    &  1.3407670   \\\\\n",
       "\tglazing\\_area &  1.158831e-16 &  1.000000     & -1.7593005    & -1.0086656    &  0.11728670   &  1.2432390    &  1.2432390   \\\\\n",
       "\tglazing\\_area\\_distribution &  1.053257e-17 &  1.000000     & -1.8133934    & -0.6850597    &  0.12089289   &  0.7656550    &  1.4104171   \\\\\n",
       "\theating\\_load &  2.230720e+01 & 10.090204     &  6.0100000    & 12.9925000    & 18.95000000   & 31.6675000    & 43.1000000   \\\\\n",
       "\tcooling\\_load &  2.458776e+01 &  9.513306     & 10.9000000    & 15.6200000    & 22.08000000   & 33.1325000    & 48.0300000   \\\\\n",
       "\\end{tabular}\n"
      ],
      "text/markdown": [
       "\n",
       "| <!--/--> | mean | std | min | q_0.25 | q_0.50 | q_0.75 | max | \n",
       "|---|---|---|---|---|---|---|---|---|---|\n",
       "| relative_compactness | -7.914394e-18 |  1.000000     | -1.3629241    | -0.7720610    | -0.13392895   |  0.6223757    |  2.0404470    | \n",
       "| surface_area | -4.431493e-16 |  1.000000     | -1.7847118    | -0.7416984    |  0.02317808   |  0.7880546    |  1.5529311    | \n",
       "| wall_area |  0.000000e+00 |  1.000000     | -1.6847565    | -0.5615855    |  0.00000000   |  0.5615855    |  2.2463421    | \n",
       "| roof_area |  2.036136e-16 |  1.000000     | -1.4691192    | -0.7910642    |  0.15821284   |  0.9718789    |  0.9718789    | \n",
       "| overall_height |  0.000000e+00 |  1.000000     | -0.9993487    | -0.9993487    |  0.00000000   |  0.9993487    |  0.9993487    | \n",
       "| orientation |  0.000000e+00 |  1.000000     | -1.3407670    | -0.6703835    |  0.00000000   |  0.6703835    |  1.3407670    | \n",
       "| glazing_area |  1.158831e-16 |  1.000000     | -1.7593005    | -1.0086656    |  0.11728670   |  1.2432390    |  1.2432390    | \n",
       "| glazing_area_distribution |  1.053257e-17 |  1.000000     | -1.8133934    | -0.6850597    |  0.12089289   |  0.7656550    |  1.4104171    | \n",
       "| heating_load |  2.230720e+01 | 10.090204     |  6.0100000    | 12.9925000    | 18.95000000   | 31.6675000    | 43.1000000    | \n",
       "| cooling_load |  2.458776e+01 |  9.513306     | 10.9000000    | 15.6200000    | 22.08000000   | 33.1325000    | 48.0300000    | \n",
       "\n",
       "\n"
      ],
      "text/plain": [
       "                          mean          std       min        q_0.25    \n",
       "relative_compactness      -7.914394e-18  1.000000 -1.3629241 -0.7720610\n",
       "surface_area              -4.431493e-16  1.000000 -1.7847118 -0.7416984\n",
       "wall_area                  0.000000e+00  1.000000 -1.6847565 -0.5615855\n",
       "roof_area                  2.036136e-16  1.000000 -1.4691192 -0.7910642\n",
       "overall_height             0.000000e+00  1.000000 -0.9993487 -0.9993487\n",
       "orientation                0.000000e+00  1.000000 -1.3407670 -0.6703835\n",
       "glazing_area               1.158831e-16  1.000000 -1.7593005 -1.0086656\n",
       "glazing_area_distribution  1.053257e-17  1.000000 -1.8133934 -0.6850597\n",
       "heating_load               2.230720e+01 10.090204  6.0100000 12.9925000\n",
       "cooling_load               2.458776e+01  9.513306 10.9000000 15.6200000\n",
       "                          q_0.50      q_0.75     max       \n",
       "relative_compactness      -0.13392895  0.6223757  2.0404470\n",
       "surface_area               0.02317808  0.7880546  1.5529311\n",
       "wall_area                  0.00000000  0.5615855  2.2463421\n",
       "roof_area                  0.15821284  0.9718789  0.9718789\n",
       "overall_height             0.00000000  0.9993487  0.9993487\n",
       "orientation                0.00000000  0.6703835  1.3407670\n",
       "glazing_area               0.11728670  1.2432390  1.2432390\n",
       "glazing_area_distribution  0.12089289  0.7656550  1.4104171\n",
       "heating_load              18.95000000 31.6675000 43.1000000\n",
       "cooling_load              22.08000000 33.1325000 48.0300000"
      ]
     },
     "metadata": {},
     "output_type": "display_data"
    }
   ],
   "source": [
    "# normalize each feature (transform them to have mean=0 and std=1) - leave out the dependant variables\n",
    "energy_feat <- energy[, !(names(energy) %in% c(\"heating_load\", \"cooling_load\"))]\n",
    "energy_feat <- as.data.frame(scale(energy_feat))\n",
    "energy_feat$heating_load <- energy$heating_load\n",
    "energy_feat$cooling_load <- energy$cooling_load\n",
    "energy <- energy_feat\n",
    "rm(energy_feat)\n",
    "\n",
    "# recheck the means and stadard deviations\n",
    "energy_summary(energy)"
   ]
  },
  {
   "cell_type": "markdown",
   "metadata": {},
   "source": [
    "## 4. Learning Algorithms\n",
    "\n",
    "### Bayesian Generalized Linear Model\n",
    "\n",
    "#### Bank dataset"
   ]
  },
  {
   "cell_type": "code",
   "execution_count": 19,
   "metadata": {},
   "outputs": [
    {
     "data": {
      "text/plain": [
       "Confusion Matrix and Statistics\n",
       "\n",
       "          Reference\n",
       "Prediction    no   yes\n",
       "       no  31502   574\n",
       "       yes  5046  4066\n",
       "                                          \n",
       "               Accuracy : 0.8636          \n",
       "                 95% CI : (0.8602, 0.8669)\n",
       "    No Information Rate : 0.8873          \n",
       "    P-Value [Acc > NIR] : 1               \n",
       "                                          \n",
       "                  Kappa : 0.5196          \n",
       " Mcnemar's Test P-Value : <2e-16          \n",
       "                                          \n",
       "            Sensitivity : 0.87629         \n",
       "            Specificity : 0.86193         \n",
       "         Pos Pred Value : 0.44622         \n",
       "         Neg Pred Value : 0.98211         \n",
       "             Prevalence : 0.11265         \n",
       "         Detection Rate : 0.09872         \n",
       "   Detection Prevalence : 0.22123         \n",
       "      Balanced Accuracy : 0.86911         \n",
       "                                          \n",
       "       'Positive' Class : yes             \n",
       "                                          "
      ]
     },
     "metadata": {},
     "output_type": "display_data"
    }
   ],
   "source": [
    "bglm_bank_model <- train(y ~ ., data = oversampled_bank_train, method = 'bayesglm')\n",
    "\n",
    "bglm_bank_prediction <- predict(bglm_bank_model, newdata = bank_test)\n",
    "confusionMatrix(bglm_bank_prediction, bank_test$y, positive=\"yes\")"
   ]
  },
  {
   "cell_type": "markdown",
   "metadata": {},
   "source": [
    "#### German credit Data"
   ]
  },
  {
   "cell_type": "code",
   "execution_count": 20,
   "metadata": {},
   "outputs": [
    {
     "data": {
      "text/plain": [
       "Confusion Matrix and Statistics\n",
       "\n",
       "          Reference\n",
       "Prediction bad good\n",
       "      bad   38   45\n",
       "      good  52  165\n",
       "                                          \n",
       "               Accuracy : 0.6767          \n",
       "                 95% CI : (0.6205, 0.7293)\n",
       "    No Information Rate : 0.7             \n",
       "    P-Value [Acc > NIR] : 0.8279          \n",
       "                                          \n",
       "                  Kappa : 0.2127          \n",
       " Mcnemar's Test P-Value : 0.5424          \n",
       "                                          \n",
       "            Sensitivity : 0.4222          \n",
       "            Specificity : 0.7857          \n",
       "         Pos Pred Value : 0.4578          \n",
       "         Neg Pred Value : 0.7604          \n",
       "             Prevalence : 0.3000          \n",
       "         Detection Rate : 0.1267          \n",
       "   Detection Prevalence : 0.2767          \n",
       "      Balanced Accuracy : 0.6040          \n",
       "                                          \n",
       "       'Positive' Class : bad             \n",
       "                                          "
      ]
     },
     "metadata": {},
     "output_type": "display_data"
    }
   ],
   "source": [
    "bglm_credit_model <- train(Risk ~ ., data = german_credit[trainIndex,], method = 'bayesglm')\n",
    "\n",
    "\n",
    "bglm_credit_prediction <- predict(bglm_credit_model, german_credit[-trainIndex,])\n",
    "confusionMatrix(bglm_credit_prediction, german_credit[-trainIndex,]$Risk)"
   ]
  },
  {
   "cell_type": "markdown",
   "metadata": {},
   "source": [
    "#### Energy efficiency"
   ]
  },
  {
   "cell_type": "code",
   "execution_count": 21,
   "metadata": {},
   "outputs": [],
   "source": [
    "# insert some code here"
   ]
  },
  {
   "cell_type": "markdown",
   "metadata": {},
   "source": [
    "### Bayesian Additive Regression Trees"
   ]
  },
  {
   "cell_type": "markdown",
   "metadata": {},
   "source": [
    "#### Fitting German Credit Data"
   ]
  },
  {
   "cell_type": "code",
   "execution_count": 22,
   "metadata": {},
   "outputs": [
    {
     "name": "stdout",
     "output_type": "stream",
     "text": [
      "bartMachine now using 4 cores.\n"
     ]
    }
   ],
   "source": [
    "# Setting computing parameters for BartMachine. 4 GB RAM for Java heap and number of computing cores set to 4.\n",
    "suppressPackageStartupMessages(suppressWarnings(options(java.parameters = \"-Xmx4g\")))\n",
    "suppressPackageStartupMessages(suppressWarnings(set_bart_machine_num_cores(4)))"
   ]
  },
  {
   "cell_type": "code",
   "execution_count": null,
   "metadata": {},
   "outputs": [],
   "source": [
    "bartTrainControl <- trainControl(method = \"cv\",  number=3, verboseIter=FALSE)\n",
    "bartmachine_fit <- suppressWarnings(train(Risk ~ ., \n",
    "                                          data = german_credit_train, \n",
    "                                          method =\"bartMachine\",\n",
    "                                          trControl = bartTrainControl,\n",
    "                                          metric = 'Accuracy',\n",
    "                                          verbose = FALSE))"
   ]
  },
  {
   "cell_type": "code",
   "execution_count": null,
   "metadata": {},
   "outputs": [],
   "source": [
    "bartMachine_predict <- predict(bartmachine_fit, german_credit_test, verbose = FALSE)\n",
    "confusionMatrix(bartMachine_predict, german_credit_test$Risk)"
   ]
  },
  {
   "cell_type": "markdown",
   "metadata": {},
   "source": [
    "## 5. Evaluation"
   ]
  },
  {
   "cell_type": "markdown",
   "metadata": {},
   "source": [
    "## 6. Conclusion"
   ]
  },
  {
   "cell_type": "markdown",
   "metadata": {},
   "source": [
    "## 7. References\n",
    "\n",
    "https://archive.ics.uci.edu/ml/datasets/Bank+Marketing"
   ]
  }
 ],
 "metadata": {
  "kernelspec": {
   "display_name": "R",
   "language": "R",
   "name": "ir"
  },
  "language_info": {
   "codemirror_mode": "r",
   "file_extension": ".r",
   "mimetype": "text/x-r-source",
   "name": "R",
   "pygments_lexer": "r",
   "version": "3.4.3"
  }
 },
 "nbformat": 4,
 "nbformat_minor": 2
}
